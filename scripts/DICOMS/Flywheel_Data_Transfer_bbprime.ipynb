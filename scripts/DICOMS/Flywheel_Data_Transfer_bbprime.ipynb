{
 "cells": [
  {
   "cell_type": "markdown",
   "metadata": {},
   "source": [
    "# UPenn Flywheel Data Transfer to ASC FMRISrv \n",
    "\n",
    "This notebook was shared by Dr Nicole Cooper from CNLab referenced this notebook for Flywheel MURI scan downloads as an example... The same should work for CNLab & AHALab Flywheel projects.\n",
    "\n",
    "+ 02/21/2020 - [José Carreras-Tartak](mailto:jcarreras@falklab.org) original author\n",
    "+ 04/28/2021 - [Etienne Jacquot](mailto:etienne.jacquot@asc.upenn.edu) revisited\n",
    "\n",
    "\n",
    "## *Getting Started w/ [UPenn Flywheel](https://upenn.flywheel.io/) Python-SDK*:\n",
    "\n",
    "The AHA lab does not have a project on Flywheel so maybe not all the steps are exact yet. This eventually will be in place though. For now let us try based on a specific sessionID\n",
    "\n",
    "- Please navigate here for access via Pennkey: https://upenn.flywheel.io/\n",
    "- you need an **api key**, be careful with this secret\n"
   ]
  },
  {
   "cell_type": "code",
   "execution_count": 1,
   "metadata": {},
   "outputs": [],
   "source": [
    "import flywheel\n",
    "import tarfile\n",
    "import os\n",
    "import time\n",
    "import zipfile\n",
    "from zipfile import ZipFile\n",
    "\n",
    "import configparser"
   ]
  },
  {
   "cell_type": "markdown",
   "metadata": {},
   "source": [
    "### Create you Flywheel API secret config file \n",
    "\n",
    "\n",
    "- You can manually navigate and create your [configs/config.ini](./configs/config.ini) (_we add *.ini to the .gitignore_)\n",
    "\n",
    "\n",
    "\n",
    "- _**ALTERNATIVELY** you can run the following in a python notebook cell, just delete the row after which contains your key:_\n",
    "\n",
    "_____\n",
    "\n",
    "```python\n",
    "!touch configs/config.ini                           # <-- create your blank config\n",
    "\n",
    "!echo '[UPENN-FLYWHEEL]' >> configs/config.ini      # <-- add the header to config file\n",
    "\n",
    "your_api_key = \"upenn.flywheel.io:LLJb...........\" # <-- MANUALLY ENTER YOUR API KEY\n",
    "\n",
    "!echo 'apikey='$your_api_key >> configs/config.ini  # <-- add your key to config \n",
    "\n",
    "```\n",
    "\n",
    "_______\n",
    "\n",
    "### Read Flywheel API secret into Python w/ ConfigParser\n",
    "\n",
    "- You must login and navigate to https://upenn.flywheel.io/#/profile, this has your API key \n"
   ]
  },
  {
   "cell_type": "code",
   "execution_count": 2,
   "metadata": {},
   "outputs": [],
   "source": [
    "# specify your home directory where the config file should be saves\n",
    "home_dir = \"/home/dcosme@asc.upenn.edu\""
   ]
  },
  {
   "cell_type": "code",
   "execution_count": 3,
   "metadata": {},
   "outputs": [],
   "source": [
    "# # commented out because the config file was generated successfully\n",
    "\n",
    "# home_dir = \"/home/dcosme@asc.upenn.edu\"\n",
    "# your_api_key = \"upenn.flywheel.io:...\"\n",
    "\n",
    "# !touch $home_dir/configs/config.ini\n",
    "# !echo '[UPENN-FLYWHEEL]' >> $home_dir/configs/config.ini\n",
    "# !echo 'apikey='$your_api_key >> $home_dir/configs/config.ini\n",
    "# !more $home_dir/configs/config.ini"
   ]
  },
  {
   "cell_type": "code",
   "execution_count": 4,
   "metadata": {},
   "outputs": [],
   "source": [
    "# add UPenn Flywheel api key to your config.ini\n",
    "fw_cred = {}\n",
    "config = configparser.ConfigParser()\n",
    "\n",
    "config.read(home_dir + '/configs/config.ini') # <--- add your Twitter API tokens to this file!\n",
    "for item,value in config['UPENN-FLYWHEEL'].items():\n",
    "    fw_cred[item]=value"
   ]
  },
  {
   "cell_type": "code",
   "execution_count": 5,
   "metadata": {},
   "outputs": [],
   "source": [
    "# read your API key\n",
    "api = fw_cred['apikey']"
   ]
  },
  {
   "cell_type": "markdown",
   "metadata": {},
   "source": [
    "### Confirm your access to Flywheel via python SDK\n",
    "\n",
    "- The `fw.get_current_user()` command is a quick way to ensure you have established a secure connection to UPenn Flywheel"
   ]
  },
  {
   "cell_type": "code",
   "execution_count": 6,
   "metadata": {},
   "outputs": [],
   "source": [
    "# Create client using your API key\n",
    "fw = flywheel.Client(api)"
   ]
  },
  {
   "cell_type": "code",
   "execution_count": 7,
   "metadata": {
    "scrolled": false
   },
   "outputs": [
    {
     "name": "stdout",
     "output_type": "stream",
     "text": [
      "UPenn Flywheel User: Dani Cosme (dcosme@upenn.edu)\n"
     ]
    }
   ],
   "source": [
    "# print your flywheel information & confirm it works as expected\n",
    "self = fw.get_current_user()\n",
    "print('UPenn Flywheel User: %s %s (%s)' % \n",
    "      (self.firstname, self.lastname, self.email))"
   ]
  },
  {
   "cell_type": "markdown",
   "metadata": {},
   "source": [
    "_______\n",
    "\n",
    "## Proceed by Navigating to Flywheel, you'll notice the URL always has respective identifiers\n",
    "\n",
    "In this example, our notebook tests for a known session ID associated w/ Dr Lydon-Staley AHA Lab:\n",
    "\n",
    "- https://upenn.flywheel.io/#/projects/5ba2913fe849c300150d02ed/sessions/6088730ee6de2e3066bd7249\n",
    "    - where the session ID is in the URL --> `6088730ee6de2e3066bd7249`\n",
    "\n"
   ]
  },
  {
   "cell_type": "markdown",
   "metadata": {},
   "source": [
    "### Set your Flywheel Project Container & Corresponding Local Out Project\n"
   ]
  },
  {
   "cell_type": "code",
   "execution_count": 13,
   "metadata": {},
   "outputs": [],
   "source": [
    "# replace with name of Flywheel project container (i.e. \"geoscan\")\n",
    "#in_project = \"geoscan\"\n",
    "in_project = 'bbprime'\n",
    "\n",
    "# replace with output project folder name in fMRI server (i.e. \"geoscanR01\")\n",
    "#out_project = \"GS\"\n",
    "out_project = \"bbprime\""
   ]
  },
  {
   "cell_type": "markdown",
   "metadata": {},
   "source": [
    "### Set your session specific ID & corresponding out ID\n",
    "\n",
    "- not sure why the `opID` is entirely needed here... TBD"
   ]
  },
  {
   "cell_type": "code",
   "execution_count": 14,
   "metadata": {},
   "outputs": [],
   "source": [
    "## MODIFY BELOW\n",
    "# replace with ppt ID as listed on Flywheel (e.g. for geoscan, typically \"gsXXX\")\n",
    "#ipID = \"gs004\"\n",
    "ipID = \"bpp01\"\n",
    "\n",
    "# replace with ppt ID as it will be stored in the server (i.e. \"GSXXX\")\n",
    "#opID = \"GS004\"\n",
    "opID = 'BPP01' # <--- I think this could be whatever, so long as this is unique on the FMRI host"
   ]
  },
  {
   "cell_type": "markdown",
   "metadata": {},
   "source": [
    "### Verify that output directory in the server is accurate\n",
    "\n",
    "- You may need to create this directory ahead of time..."
   ]
  },
  {
   "cell_type": "code",
   "execution_count": 15,
   "metadata": {},
   "outputs": [
    {
     "data": {
      "text/plain": [
       "['BPP00']"
      ]
     },
     "execution_count": 15,
     "metadata": {},
     "output_type": "execute_result"
    }
   ],
   "source": [
    "outpath = '/fmriDataRaw/fmri_data_raw/{PROJECT}'.format(PROJECT=out_project)\n",
    "\n",
    "os.listdir(outpath)"
   ]
  },
  {
   "cell_type": "markdown",
   "metadata": {},
   "source": [
    "________\n",
    "\n",
    "## Proceed with looking up your subject data & downloading Dicom tarball\n",
    "\n",
    "NOTE!!\n",
    "\n",
    "* Location for DICOMS on the server IS:\n",
    "\n",
    "    - `/fmriDataRaw/fmri_data_raw/{PROJECT}/`\n",
    "\n",
    "e.g. untar the appropriate folder to e.g. `/fmriDataRaw/fmri_data_raw/{PROJECT}/`\n",
    "\n",
    "\n",
    "### Flywheel uses `Group / Project / Subject / Session` to identify scan ... \n",
    "\n",
    "- the **group** is `falklab`\n",
    "\n",
    "- the **project** is `bbprime` *(fw://unknown/Unsorted)*\n",
    "\n",
    "- the **subject** is `bpp00` *(probably a default for the unsorted group)*\n",
    "\n",
    "- the **session** is `CAMRIS^Falk`\n",
    "\n",
    "#### Thus our lookup string is --> `'falklab/bbprime/bpp00/CAMRIS^Falk'` "
   ]
  },
  {
   "cell_type": "code",
   "execution_count": 16,
   "metadata": {},
   "outputs": [
    {
     "data": {
      "text/plain": [
       "'falklab/bbprime/bpp01/CAMRIS^Falk'"
      ]
     },
     "execution_count": 16,
     "metadata": {},
     "output_type": "execute_result"
    }
   ],
   "source": [
    "#group_label = 'falklab'\n",
    "group_label = 'falklab'\n",
    "\n",
    "#project_label = 'bbprime'\n",
    "project_label = in_project # <-- values are set early on in the notebook... maybe that isn't helpful though?\n",
    "\n",
    "#subject_label = 'bpp00'\n",
    "subject_label = ipID # <-- values are set early on in the notebook... maybe that isn't helpful though?\n",
    "\n",
    "session_label = 'CAMRIS^Falk'\n",
    "\n",
    "######################################################\n",
    "\n",
    "lookup_string = '{}/{}/{}/{}'.format(group_label,project_label,subject_label,session_label)\n",
    "lookup_string"
   ]
  },
  {
   "cell_type": "markdown",
   "metadata": {},
   "source": [
    "### Proceed with looking up the known session in the *Unsorted* project\n",
    "\n",
    "Create `session` object to lookup session of interest, you want to then confirm metadata is accurate!\n",
    "\n",
    "- For a helpful video overview on finding your data on Flywheel w/ Python-SDK, I strongly encourage you to visit here:\n",
    "https://docs.flywheel.io/hc/en-us/articles/360048440933-Webinar-Series-Finding-your-stuff-in-Flywheel-with-the-Python-SDK\n",
    "\n",
    "*TODO --> CONTACT UPENN FLYWHEEL ADMIN TEAM TO FIGURE OUT LAB PROJECTS!*"
   ]
  },
  {
   "cell_type": "code",
   "execution_count": 17,
   "metadata": {
    "scrolled": true
   },
   "outputs": [
    {
     "data": {
      "text/plain": [
       "{'age': None,\n",
       " 'analyses': [],\n",
       " 'code': 'bpp01',\n",
       " 'cohort': None,\n",
       " 'created': datetime.datetime(2021, 7, 10, 13, 26, 39, 95000, tzinfo=tzutc()),\n",
       " 'ethnicity': None,\n",
       " 'files': [],\n",
       " 'firstname': '',\n",
       " 'id': '60edbc44852dced2db56b0d6',\n",
       " 'info': {},\n",
       " 'info_exists': None,\n",
       " 'label': 'bpp01',\n",
       " 'lastname': '',\n",
       " 'master_code': None,\n",
       " 'modified': datetime.datetime(2021, 7, 13, 16, 19, 41, 755000, tzinfo=tzutc()),\n",
       " 'notes': [],\n",
       " 'parents': {'acquisition': None,\n",
       "             'analysis': None,\n",
       "             'group': 'falklab',\n",
       "             'project': '60bf921979936cf97a3d09fa',\n",
       "             'session': None,\n",
       "             'subject': None},\n",
       " 'permissions': [{'access': None,\n",
       "                  'id': 'holder@upenn.edu',\n",
       "                  'role_ids': ['5ef07972374bc20010a37aa3']},\n",
       "                 {'access': None,\n",
       "                  'id': 'ebfalk@upenn.edu',\n",
       "                  'role_ids': ['5ef07972374bc20010a37aa3']},\n",
       "                 {'access': None,\n",
       "                  'id': 'alpaul@upenn.edu',\n",
       "                  'role_ids': ['5ef07972374bc20010a37aa3']},\n",
       "                 {'access': None,\n",
       "                  'id': 'senecaln@upenn.edu',\n",
       "                  'role_ids': ['5ef07972374bc20010a37aa3']},\n",
       "                 {'access': None,\n",
       "                  'id': 'bpierre@upenn.edu',\n",
       "                  'role_ids': ['5ef07972374bc20010a37aa4']},\n",
       "                 {'access': None,\n",
       "                  'id': 'kanyo@upenn.edu',\n",
       "                  'role_ids': ['5ef07972374bc20010a37aa4']},\n",
       "                 {'access': None,\n",
       "                  'id': 'jcarrer@upenn.edu',\n",
       "                  'role_ids': ['5ef07972374bc20010a37aa3']},\n",
       "                 {'access': None,\n",
       "                  'id': 'odmatt@upenn.edu',\n",
       "                  'role_ids': ['5ef07972374bc20010a37aa3']},\n",
       "                 {'access': None,\n",
       "                  'id': 'miajov@upenn.edu',\n",
       "                  'role_ids': ['5ef07972374bc20010a37aa4']},\n",
       "                 {'access': None,\n",
       "                  'id': 'radreview@pennbrain.upenn.edu',\n",
       "                  'role_ids': ['5ef07972374bc20010a37aa5']},\n",
       "                 {'access': None,\n",
       "                  'id': 'etiennej@upenn.edu',\n",
       "                  'role_ids': ['5ef07972374bc20010a37aa3']},\n",
       "                 {'access': None,\n",
       "                  'id': 'jeesung@upenn.edu',\n",
       "                  'role_ids': ['5ef07972374bc20010a37aa4']},\n",
       "                 {'access': None,\n",
       "                  'id': 'dcosme@upenn.edu',\n",
       "                  'role_ids': ['5ef07972374bc20010a37aa4']},\n",
       "                 {'access': None,\n",
       "                  'id': 'taureanb@upenn.edu',\n",
       "                  'role_ids': ['5ef07972374bc20010a37aa4']},\n",
       "                 {'access': None,\n",
       "                  'id': 'omayat@upenn.edu',\n",
       "                  'role_ids': ['5ef07972374bc20010a37aa4']},\n",
       "                 {'access': None,\n",
       "                  'id': 'beckmart@upenn.edu',\n",
       "                  'role_ids': ['5ef07972374bc20010a37aa4']},\n",
       "                 {'access': None,\n",
       "                  'id': 'smburns@upenn.edu',\n",
       "                  'role_ids': ['5ef07972374bc20010a37aa4']},\n",
       "                 {'access': None,\n",
       "                  'id': 'keanari@upenn.edu',\n",
       "                  'role_ids': ['5ef07972374bc20010a37aa4']}],\n",
       " 'project': '60bf921979936cf97a3d09fa',\n",
       " 'race': None,\n",
       " 'revision': 2,\n",
       " 'sex': 'female',\n",
       " 'species': '',\n",
       " 'strain': '',\n",
       " 'tags': [],\n",
       " 'type': None}"
      ]
     },
     "execution_count": 17,
     "metadata": {},
     "output_type": "execute_result"
    }
   ],
   "source": [
    "#session = fw.lookup('{}'.format(lookup_string))\n",
    "session = fw.lookup('falklab/{proj}/{pid}'.format(proj=in_project,pid=ipID))\n",
    "session"
   ]
  },
  {
   "cell_type": "markdown",
   "metadata": {},
   "source": [
    "### Download the Flywheel Session tarball to FMRISrv\n",
    "\n",
    "- Once we have the tar zip we can then extract our dicoms to the network\n",
    "\n",
    "\n",
    "- *On running for Dr Lydon-Staley test subject, this tarball file is nearly 1GB*\n",
    "\n",
    "#### What about the `./working_data` directory? \n",
    "\n",
    "*TODO --> Where does working data directory go? Is that just in the jupyterhub environment? does the tarball get deleted after or saved to the network in raw data?*"
   ]
  },
  {
   "cell_type": "code",
   "execution_count": 18,
   "metadata": {},
   "outputs": [
    {
     "name": "stdout",
     "output_type": "stream",
     "text": [
      "mkdir: cannot create directory ‘working_data’: File exists\r\n"
     ]
    }
   ],
   "source": [
    "!mkdir working_data"
   ]
  },
  {
   "cell_type": "code",
   "execution_count": 19,
   "metadata": {},
   "outputs": [
    {
     "data": {
      "text/plain": [
       "{'file_cnt': 17,\n",
       " 'size': 1306307861,\n",
       " 'ticket': '75892b43-45d8-453d-8a89-d0da2dd4277c'}"
      ]
     },
     "execution_count": 19,
     "metadata": {},
     "output_type": "execute_result"
    }
   ],
   "source": [
    "fw.download_tar(session,'./working_data/{opID}.tar'.format(opID=opID))\n"
   ]
  },
  {
   "cell_type": "markdown",
   "metadata": {},
   "source": [
    "## Extract contents of Flywheel tar download:\n",
    "\n",
    "In the following cells, you will:\n",
    "\n",
    "1. Load tarball into jupyterhub notebook memory space\n",
    "\n",
    "2. Set your dicom out directory and confirm permissions\n",
    "\n",
    "3. Loop through tarball `.getmembers()` and then extract zipped dicoms\n",
    "\n",
    "### Load into Memory:"
   ]
  },
  {
   "cell_type": "code",
   "execution_count": 20,
   "metadata": {},
   "outputs": [
    {
     "name": "stdout",
     "output_type": "stream",
     "text": [
      "Opening tar in memory as: <_io.BufferedReader name='working_data/BPP01.tar'> \n",
      "\n"
     ]
    }
   ],
   "source": [
    "f = open(\"working_data/{opID}.tar\".format(opID=opID), 'rb') # <--- Flywheel download as Read Bytes\n",
    "print ('Opening tar in memory as:',f,'\\n')\n",
    "tar_data = tarfile.open(fileobj=f, mode='r:') # <--- Unpack tar in memory"
   ]
  },
  {
   "cell_type": "markdown",
   "metadata": {},
   "source": [
    "### Set and Create your Out Directory:\n",
    "\n",
    "- Jupyterhub does not respect secondary group permissions... so when I create a directory it's default to FMRISrvUser1@asc.upenn.edu instead of FMRISrvAHAUsers@asc.upenn.edu ... will manually correct"
   ]
  },
  {
   "cell_type": "code",
   "execution_count": 21,
   "metadata": {},
   "outputs": [
    {
     "name": "stdout",
     "output_type": "stream",
     "text": [
      "/fmriDataRaw/fmri_data_raw/bbprime/BPP01/\n"
     ]
    }
   ],
   "source": [
    "output_dicom_dir = '{outpath}/{opID}/'.format(outpath=outpath,opID=opID)\n",
    "print(output_dicom_dir)"
   ]
  },
  {
   "cell_type": "code",
   "execution_count": 22,
   "metadata": {},
   "outputs": [
    {
     "name": "stdout",
     "output_type": "stream",
     "text": [
      "makedirs --> /fmriDataRaw/fmri_data_raw/bbprime/BPP01/\n"
     ]
    }
   ],
   "source": [
    "# Create the directory if not exist\n",
    "if not os.path.exists(os.path.dirname(output_dicom_dir)):\n",
    "    try:\n",
    "        print('makedirs --> {}'.format(output_dicom_dir))\n",
    "        os.makedirs(os.path.dirname(output_dicom_dir))\n",
    "    except:\n",
    "        print('oops! failed to create --> {}'.format(output_dicom_dir))        "
   ]
  },
  {
   "cell_type": "markdown",
   "metadata": {},
   "source": [
    "## Confirm permissions for out directory\n",
    "\n",
    "### Had to make the outdir permission 777 -R\n",
    "\n",
    "- Secondary group permission is not respected in jhub so I had to manually change for my user created folder ... \n",
    "\n",
    "```bash\n",
    "sudo chgrp fmrisrvahausers@asc.upenn.edu -R /AHAData/fmri_data_raw/\n",
    "```"
   ]
  },
  {
   "cell_type": "code",
   "execution_count": 24,
   "metadata": {},
   "outputs": [
    {
     "name": "stdout",
     "output_type": "stream",
     "text": [
      "total 0\r\n",
      "drwxrwxr-x. 1 dcosme@asc.upenn.edu          fmrisrv1users@asc.upenn.edu 0 Jul 13 20:12 \u001b[0m\u001b[01;34m.\u001b[0m/\r\n",
      "drwxrwxr-x. 1 jcarrerastartak@asc.upenn.edu fmrisrv1users@asc.upenn.edu 0 Jul 13 20:12 \u001b[01;34m..\u001b[0m/\r\n"
     ]
    }
   ],
   "source": [
    "ls -la $output_dicom_dir"
   ]
  },
  {
   "cell_type": "markdown",
   "metadata": {},
   "source": [
    "## EXTRACT YOUR TARBALL DICOM TO FMRISRV NETWORK STORAGE"
   ]
  },
  {
   "cell_type": "code",
   "execution_count": 25,
   "metadata": {},
   "outputs": [
    {
     "name": "stdout",
     "output_type": "stream",
     "text": [
      "Extracting: scitran/falklab/bbprime/bpp01/CAMRIS^Falk/localizer_multislice/1.3.12.2.1107.5.2.43.66044.2021071213544651472282909.0.0.0.dicom.zip\n",
      "\n",
      "Extracting: scitran/falklab/bbprime/bpp01/CAMRIS^Falk/PhoenixZIPReport/1.3.12.2.1107.5.2.43.66044.30000021071001403492400000326.dicom.zip\n",
      "\n",
      "Extracting: scitran/falklab/bbprime/bpp01/CAMRIS^Falk/AAHead_Scout/1.3.12.2.1107.5.2.43.66044.2021071213554977830483660.0.0.0.dicom.zip\n",
      "\n",
      "Extracting: scitran/falklab/bbprime/bpp01/CAMRIS^Falk/AAHead_Scout_MPR_sag/1.3.12.2.1107.5.2.43.66044.2021071213555412448584760.0.0.0.dicom.zip\n",
      "\n",
      "Extracting: scitran/falklab/bbprime/bpp01/CAMRIS^Falk/AAHead_Scout_MPR_cor/1.3.12.2.1107.5.2.43.66044.2021071213555412493984766.0.0.0.dicom.zip\n",
      "\n",
      "Extracting: scitran/falklab/bbprime/bpp01/CAMRIS^Falk/AAHead_Scout_MPR_tra/1.3.12.2.1107.5.2.43.66044.2021071213555412520484770.0.0.0.dicom.zip\n",
      "\n",
      "Extracting: scitran/falklab/bbprime/bpp01/CAMRIS^Falk/MPRAGE_TI1100_ipat2/1.3.12.2.1107.5.2.43.66044.2021071213565473756285616.0.0.0.dicom.zip\n",
      "\n",
      "Extracting: scitran/falklab/bbprime/bpp01/CAMRIS^Falk/task-read_run-1_bold/1.3.12.2.1107.5.2.43.66044.2021071214031950833287040.0.0.0.dicom.zip\n",
      "\n",
      "Extracting: scitran/falklab/bbprime/bpp01/CAMRIS^Falk/task-read_run-1_epi/1.3.12.2.1107.5.2.43.66044.2021071214110627851477758.0.0.0.dicom.zip\n",
      "\n",
      "Extracting: scitran/falklab/bbprime/bpp01/CAMRIS^Falk/task-share_run-1_bold/1.3.12.2.1107.5.2.43.66044.2021071214111678937578166.0.0.0.dicom.zip\n",
      "\n",
      "Extracting: scitran/falklab/bbprime/bpp01/CAMRIS^Falk/task-share_run-1_epi/1.3.12.2.1107.5.2.43.66044.2021071214202079579573394.0.0.0.dicom.zip\n",
      "\n",
      "Extracting: scitran/falklab/bbprime/bpp01/CAMRIS^Falk/PosDisp_ [6] MPRAGE_TI1100_ipat2/1.3.12.2.1107.5.2.43.66044.30000021071218233990600000001.dicom.zip\n",
      "\n",
      "Extracting: scitran/falklab/bbprime/bpp01/CAMRIS^Falk/task-share_run-2_bold/1.3.12.2.1107.5.2.43.66044.2021071214203115195073802.0.0.0.dicom.zip\n",
      "\n",
      "Extracting: scitran/falklab/bbprime/bpp01/CAMRIS^Falk/task-share_run-2_epi/1.3.12.2.1107.5.2.43.66044.2021071214294771759469030.0.0.0.dicom.zip\n",
      "\n",
      "Extracting: scitran/falklab/bbprime/bpp01/CAMRIS^Falk/task-share_run-3_bold/1.3.12.2.1107.5.2.43.66044.2021071214295824791169438.0.0.0.dicom.zip\n",
      "\n",
      "Extracting: scitran/falklab/bbprime/bpp01/CAMRIS^Falk/task-share_run-3_epi/1.3.12.2.1107.5.2.43.66044.2021071214383773482864666.0.0.0.dicom.zip\n",
      "\n"
     ]
    }
   ],
   "source": [
    "for member in tar_data.getmembers():\n",
    "    \n",
    "    if 'dicom.zip' in member.name:       # <--- Only extract files with 'dicom.zip' \n",
    "        \n",
    "        print('Extracting: {}\\n'.format(member.name))\n",
    "        \n",
    "        tfile = tar_data.extractfile(member.name)\n",
    "        dicom_zip = zipfile.ZipFile(tfile, mode='r')\n",
    "        dicom_zip.extractall(output_dicom_dir)"
   ]
  },
  {
   "cell_type": "markdown",
   "metadata": {},
   "source": [
    "### You have now successfully downloaded the dicom data from Flywheel to ASC servers\n",
    "\n",
    "- this goes to `/fmriDataRaw/fmri_data_raw/bbprime/BPP00/`"
   ]
  },
  {
   "cell_type": "code",
   "execution_count": 26,
   "metadata": {},
   "outputs": [
    {
     "data": {
      "text/plain": [
       "['1.3.12.2.1107.5.2.43.66044.2021071213544651472282909.0.0.0.dicom',\n",
       " '1.3.12.2.1107.5.2.43.66044.2021071213554977830483660.0.0.0.dicom',\n",
       " '1.3.12.2.1107.5.2.43.66044.2021071213555412448584760.0.0.0.dicom',\n",
       " '1.3.12.2.1107.5.2.43.66044.2021071213555412493984766.0.0.0.dicom',\n",
       " '1.3.12.2.1107.5.2.43.66044.2021071213555412520484770.0.0.0.dicom',\n",
       " '1.3.12.2.1107.5.2.43.66044.2021071213565473756285616.0.0.0.dicom',\n",
       " '1.3.12.2.1107.5.2.43.66044.2021071214031950833287040.0.0.0.dicom',\n",
       " '1.3.12.2.1107.5.2.43.66044.2021071214110627851477758.0.0.0.dicom',\n",
       " '1.3.12.2.1107.5.2.43.66044.2021071214111678937578166.0.0.0.dicom',\n",
       " '1.3.12.2.1107.5.2.43.66044.2021071214202079579573394.0.0.0.dicom',\n",
       " '1.3.12.2.1107.5.2.43.66044.2021071214203115195073802.0.0.0.dicom',\n",
       " '1.3.12.2.1107.5.2.43.66044.2021071214294771759469030.0.0.0.dicom',\n",
       " '1.3.12.2.1107.5.2.43.66044.2021071214295824791169438.0.0.0.dicom',\n",
       " '1.3.12.2.1107.5.2.43.66044.2021071214383773482864666.0.0.0.dicom',\n",
       " '1.3.12.2.1107.5.2.43.66044.30000021071001403492400000326.dicom',\n",
       " '1.3.12.2.1107.5.2.43.66044.30000021071218233990600000001.dicom']"
      ]
     },
     "execution_count": 26,
     "metadata": {},
     "output_type": "execute_result"
    }
   ],
   "source": [
    "os.listdir('{}'.format(output_dicom_dir))"
   ]
  },
  {
   "cell_type": "markdown",
   "metadata": {},
   "source": [
    "## Loop through participants\n",
    "\n",
    "The code below allows you to loop through multiple participants"
   ]
  },
  {
   "cell_type": "markdown",
   "metadata": {},
   "source": [
    "### Define function"
   ]
  },
  {
   "cell_type": "code",
   "execution_count": 3,
   "metadata": {},
   "outputs": [],
   "source": [
    "def transfer_data (sub, input_prefix, output_prefix):\n",
    "    ipID = input_prefix + sub\n",
    "    opID = output_prefix + sub\n",
    "    outpath = '/fmriDataRaw/fmri_data_raw/{PROJECT}'.format(PROJECT=out_project)\n",
    "    \n",
    "    if os.path.exists(os.path.join(outpath, opID)) == False:\n",
    "        print('-------------- Transferring: {} -------------'.format(ipID))\n",
    "        \n",
    "        # download tar file\n",
    "        session = fw.lookup('falklab/{proj}/{pid}'.format(proj=in_project,pid=ipID))\n",
    "        print ('Downloading tar')\n",
    "        fw.download_tar(session,'./working_data/{opID}.tar'.format(opID=opID))\n",
    "        \n",
    "        # open tar file\n",
    "        f = open(\"working_data/{opID}.tar\".format(opID=opID), 'rb') # <--- Flywheel download as Read Bytes\n",
    "        print ('Opening tar in memory as:',f,'\\n')\n",
    "        tar_data = tarfile.open(fileobj=f, mode='r:') # <--- Unpack tar in memory\n",
    "        \n",
    "        # Create the directory if not exist\n",
    "        output_dicom_dir = '{outpath}/{opID}/'.format(outpath=outpath,opID=opID)\n",
    "\n",
    "        if not os.path.exists(os.path.dirname(output_dicom_dir)):\n",
    "            try:\n",
    "                print('makedirs --> {}'.format(output_dicom_dir))\n",
    "                os.makedirs(os.path.dirname(output_dicom_dir))\n",
    "            except:\n",
    "                print('oops! failed to create --> {}'.format(output_dicom_dir))     \n",
    "\n",
    "                \n",
    "        # Extract dicom files\n",
    "        for member in tar_data.getmembers():\n",
    "            if 'dicom.zip' in member.name:       # <--- Only extract files with 'dicom.zip' \n",
    "                print('Extracting: {}\\n'.format(member.name))\n",
    "        \n",
    "                tfile = tar_data.extractfile(member.name)\n",
    "                dicom_zip = zipfile.ZipFile(tfile, mode='r')\n",
    "                dicom_zip.extractall(output_dicom_dir)\n",
    "    else:\n",
    "        print('-------------- Skipping existing participant: {} -------------'.format(ipID))\n",
    "                \n",
    "                "
   ]
  },
  {
   "cell_type": "markdown",
   "metadata": {},
   "source": [
    "### Define variables\n",
    "* subs = participant numbers minus the prefix (e.g. use 01 for bpp01)\n",
    "* input_prefix = project prefix listed on flywheel\n",
    "* output_prefix = desired project prefix"
   ]
  },
  {
   "cell_type": "code",
   "execution_count": 4,
   "metadata": {},
   "outputs": [],
   "source": [
    "subs=['00', '01']\n",
    "input_prefix = 'bpp'\n",
    "output_prefix = 'BPP'"
   ]
  },
  {
   "cell_type": "markdown",
   "metadata": {},
   "source": [
    "### Loop through specified participants"
   ]
  },
  {
   "cell_type": "code",
   "execution_count": 57,
   "metadata": {},
   "outputs": [
    {
     "name": "stdout",
     "output_type": "stream",
     "text": [
      "-------------- Skipping existing participant: bpp00 -------------\n",
      "-------------- Skipping existing participant: bpp01 -------------\n"
     ]
    }
   ],
   "source": [
    "for sub in subs:\n",
    "    transfer_data(sub, input_prefix, output_prefix)\n",
    "    "
   ]
  },
  {
   "cell_type": "code",
   "execution_count": 8,
   "metadata": {},
   "outputs": [
    {
     "name": "stdout",
     "output_type": "stream",
     "text": [
      "1.3.12.2.1107.5.2.43.66044.2021070809401896847630066.0.0.0.dicom\r\n",
      "1.3.12.2.1107.5.2.43.66044.2021070809412281865230828.0.0.0.dicom\r\n",
      "1.3.12.2.1107.5.2.43.66044.2021070809412685334831917.0.0.0.dicom\r\n",
      "1.3.12.2.1107.5.2.43.66044.2021070809412685377431923.0.0.0.dicom\r\n",
      "1.3.12.2.1107.5.2.43.66044.2021070809412685402031927.0.0.0.dicom\r\n",
      "1.3.12.2.1107.5.2.43.66044.202107080944116265832773.0.0.0.dicom\r\n",
      "1.3.12.2.1107.5.2.43.66044.2021070809513278109134197.0.0.0.dicom\r\n",
      "1.3.12.2.1107.5.2.43.66044.2021070810062780459723705.0.0.0.dicom\r\n",
      "1.3.12.2.1107.5.2.43.66044.2021070810063830959124113.0.0.0.dicom\r\n",
      "1.3.12.2.1107.5.2.43.66044.202107081016361044818131.0.0.0.dicom\r\n",
      "1.3.12.2.1107.5.2.43.66044.2021070810164641187318539.0.0.0.dicom\r\n",
      "1.3.12.2.1107.5.2.43.66044.2021070810264198449112557.0.0.0.dicom\r\n",
      "1.3.12.2.1107.5.2.43.66044.30000021062420405850600001483.dicom\r\n"
     ]
    }
   ],
   "source": [
    "!ls /fmriDataRaw/fmri_data_raw/bbprime/BPP00"
   ]
  },
  {
   "cell_type": "code",
   "execution_count": null,
   "metadata": {},
   "outputs": [],
   "source": []
  }
 ],
 "metadata": {
  "kernelspec": {
   "display_name": "Python 3",
   "language": "python",
   "name": "python3"
  },
  "language_info": {
   "codemirror_mode": {
    "name": "ipython",
    "version": 3
   },
   "file_extension": ".py",
   "mimetype": "text/x-python",
   "name": "python",
   "nbconvert_exporter": "python",
   "pygments_lexer": "ipython3",
   "version": "3.7.4"
  }
 },
 "nbformat": 4,
 "nbformat_minor": 2
}
