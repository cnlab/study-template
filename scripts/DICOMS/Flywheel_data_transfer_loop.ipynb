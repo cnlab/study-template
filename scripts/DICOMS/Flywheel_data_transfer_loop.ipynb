{
 "cells": [
  {
   "cell_type": "markdown",
   "metadata": {},
   "source": [
    "# Transfer multiple participants\n",
    "\n",
    "This script allows you to loop through a list of participants.\n",
    "\n",
    "You'll probably want to use the test notebook (`Flywheel_Data_Transfer.ipynb`) first for one participants to create the credential config file and figure out the correct variable names.\n"
   ]
  },
  {
   "cell_type": "code",
   "execution_count": 2,
   "metadata": {},
   "outputs": [],
   "source": [
    "import flywheel\n",
    "import tarfile\n",
    "import os\n",
    "import time\n",
    "import zipfile\n",
    "from zipfile import ZipFile\n",
    "import configparser"
   ]
  },
  {
   "cell_type": "markdown",
   "metadata": {},
   "source": [
    "## Define functions"
   ]
  },
  {
   "cell_type": "code",
   "execution_count": 3,
   "metadata": {},
   "outputs": [],
   "source": [
    "def transfer_data (sub, in_prefix, out_prefix, in_project, out_project):\n",
    "    ipID = in_prefix + sub\n",
    "    opID = out_prefix + sub\n",
    "    outpath = '/fmriDataRaw/fmri_data_raw/{PROJECT}'.format(PROJECT=out_project)\n",
    "    \n",
    "    if os.path.exists(os.path.join(outpath, opID)) == False:\n",
    "        print('-------------- Transferring: {} -------------'.format(ipID))\n",
    "        \n",
    "        # download tar file\n",
    "        session = fw.lookup('falklab/{proj}/{pid}'.format(proj=in_project,pid=ipID))\n",
    "        print ('Downloading tar')\n",
    "        fw.download_tar(session,'./working_data/{opID}.tar'.format(opID=opID))\n",
    "        \n",
    "        # open tar file\n",
    "        f = open(\"working_data/{opID}.tar\".format(opID=opID), 'rb') # <--- Flywheel download as Read Bytes\n",
    "        print ('Opening tar in memory as:',f,'\\n')\n",
    "        tar_data = tarfile.open(fileobj=f, mode='r:') # <--- Unpack tar in memory\n",
    "        \n",
    "        # Create the directory if not exist\n",
    "        output_dicom_dir = '{outpath}/{opID}/'.format(outpath=outpath,opID=opID)\n",
    "\n",
    "        if not os.path.exists(os.path.dirname(output_dicom_dir)):\n",
    "            try:\n",
    "                print('makedirs --> {}'.format(output_dicom_dir))\n",
    "                os.makedirs(os.path.dirname(output_dicom_dir))\n",
    "            except:\n",
    "                print('oops! failed to create --> {}'.format(output_dicom_dir))     \n",
    "\n",
    "                \n",
    "        # Extract dicom files\n",
    "        for member in tar_data.getmembers():\n",
    "            if 'dicom.zip' in member.name:       # <--- Only extract files with 'dicom.zip' \n",
    "                print('Extracting: {}\\n'.format(member.name))\n",
    "        \n",
    "                tfile = tar_data.extractfile(member.name)\n",
    "                dicom_zip = zipfile.ZipFile(tfile, mode='r')\n",
    "                dicom_zip.extractall(output_dicom_dir)\n",
    "    else:\n",
    "        print('-------------- Skipping existing participant: {} -------------'.format(ipID))\n",
    "                \n",
    "                "
   ]
  },
  {
   "cell_type": "markdown",
   "metadata": {},
   "source": [
    "## Define variables\n",
    "* home_dir = hoem directory where the config file was created in the test notebook\n",
    "* in_project = project name on flywheel\n",
    "* out_project = desired output project name\n",
    "* subs = participant numbers minus the prefix (e.g. use 01 for bpp01)\n",
    "* in_prefix = project prefix listed on flywheel\n",
    "* out_prefix = desired project prefix"
   ]
  },
  {
   "cell_type": "code",
   "execution_count": 10,
   "metadata": {},
   "outputs": [],
   "source": [
    "home_dir = \"/home/dcosme@asc.upenn.edu\"\n",
    "in_project = 'bbprime'\n",
    "out_project = \"bbprime\"\n",
    "subs=['15', '22']\n",
    "in_prefix = 'bpp'\n",
    "out_prefix = 'BPP'"
   ]
  },
  {
   "cell_type": "markdown",
   "metadata": {},
   "source": [
    "## Setup API"
   ]
  },
  {
   "cell_type": "code",
   "execution_count": 11,
   "metadata": {},
   "outputs": [
    {
     "name": "stdout",
     "output_type": "stream",
     "text": [
      "UPenn Flywheel User: Dani Cosme (dcosme@upenn.edu)\n"
     ]
    }
   ],
   "source": [
    "# add UPenn Flywheel api key to your config.ini\n",
    "fw_cred = {}\n",
    "config = configparser.ConfigParser()\n",
    "\n",
    "config.read(home_dir + '/configs/config.ini') # <--- add your Twitter API tokens to this file!\n",
    "for item,value in config['UPENN-FLYWHEEL'].items():\n",
    "    fw_cred[item]=value\n",
    "\n",
    "# read your API key\n",
    "api = fw_cred['apikey']\n",
    "\n",
    "# Create client using your API key\n",
    "fw = flywheel.Client(api)\n",
    "\n",
    "# print your flywheel information & confirm it works as expected\n",
    "self = fw.get_current_user()\n",
    "print('UPenn Flywheel User: %s %s (%s)' % \n",
    "      (self.firstname, self.lastname, self.email))"
   ]
  },
  {
   "cell_type": "markdown",
   "metadata": {},
   "source": [
    "## Loop through data"
   ]
  },
  {
   "cell_type": "code",
   "execution_count": null,
   "metadata": {},
   "outputs": [
    {
     "name": "stdout",
     "output_type": "stream",
     "text": [
      "-------------- Transferring: BPP15 -------------\n",
      "Downloading tar\n"
     ]
    }
   ],
   "source": [
    "for sub in subs:\n",
    "    transfer_data(sub, in_prefix, out_prefix, in_project, out_project)"
   ]
  },
  {
   "cell_type": "code",
   "execution_count": null,
   "metadata": {},
   "outputs": [],
   "source": []
  }
 ],
 "metadata": {
  "kernelspec": {
   "display_name": "Python 3",
   "language": "python",
   "name": "python3"
  },
  "language_info": {
   "codemirror_mode": {
    "name": "ipython",
    "version": 3
   },
   "file_extension": ".py",
   "mimetype": "text/x-python",
   "name": "python",
   "nbconvert_exporter": "python",
   "pygments_lexer": "ipython3",
   "version": "3.7.4"
  }
 },
 "nbformat": 4,
 "nbformat_minor": 2
}
