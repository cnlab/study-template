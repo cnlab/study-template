{
 "cells": [
  {
   "cell_type": "markdown",
   "metadata": {},
   "source": [
    "# DICOM-to-BIDS conversion using `heudiconv` and `singularity`\n",
    "\n",
    "* This notebook creates jobs for each participant and executes them by looping across participants in this notebook or by creating slurm jobs that can be run in parallel on the slurm cluser\n",
    " \n",
    "\n",
    "#### HISTORY\n",
    "\n",
    "* 9/9/21 dcosme - initial code"
   ]
  },
  {
   "cell_type": "markdown",
   "metadata": {},
   "source": [
    "## Do the DICOM to BIDS conversion for new data using existing config setup\n",
    "\n",
    "* Now we have set up a mapping and edited the `heuristics.py` file we can do dicom2bids conversion with the following Singularity command.\n",
    "\n",
    "* __N.B.__ Make sure the source folder in:\n",
    "   ```\n",
    "   /fmriDataRaw/fmri_data_raw/bbprime\n",
    "   ```\n",
    "\n",
    "* The only thing that needs to be changed is the subject identifier:\n",
    "   ```\n",
    "   -s BPP00\n",
    "   ```\n",
    "   \n",
    "   it should match the folder name of the subject's data in\n",
    "   ```\n",
    "   /fmriDataRaw/fmri_data_raw/bbprime\n",
    "   ```"
   ]
  },
  {
   "cell_type": "markdown",
   "metadata": {},
   "source": [
    "## Loop through participants\n",
    "The code below creates a job that can be executed in this notebook\n",
    "\n",
    "### Define variables"
   ]
  },
  {
   "cell_type": "code",
   "execution_count": 6,
   "metadata": {},
   "outputs": [],
   "source": [
    "import os\n",
    "\n",
    "project = 'bbprime'\n",
    "job_dir = os.path.join('/data00/projects/' + project + '/scripts/BIDS/jobs')\n",
    "subs = ['BPP15', 'BPP22', 'BPP26', 'BPP34', 'BPP37', 'BPP30', 'BPP38',\n",
    "        'BPP41', 'BPP40', 'BPP29', 'BPP43', 'BPP33', 'BPP36', 'BPP42',\n",
    "        'BPP25', 'BPP44']\n",
    "\n",
    "job_file_template = r'''#!/bin/bash\n",
    "singularity run --cleanenv \\\n",
    "    -B /data00/projects/bbprime:/base  \\\n",
    "    -B /fmriDataRaw/fmri_data_raw:/raw \\\n",
    "    /data00/tools/singularity_images/heudiconv_0.8.0 \\\n",
    "    -d /raw/bbprime/{subject}/*/*.dcm \\\n",
    "    -o /base/data/bids_data/ \\\n",
    "    -f heudiconv/code/heuristic.py -s {ID} -c dcm2niix -b --overwrite\n",
    "'''"
   ]
  },
  {
   "cell_type": "markdown",
   "metadata": {},
   "source": [
    "### Loop through specified participants"
   ]
  },
  {
   "cell_type": "code",
   "execution_count": null,
   "metadata": {},
   "outputs": [
    {
     "name": "stdout",
     "output_type": "stream",
     "text": [
      "-------------- Creating: BPP15 -------------\n",
      "/data00/projects/bbprime/scripts/BIDS/jobs/heudiconv_BPP15.job\n",
      "INFO: Running heudiconv version 0.8.0 latest 0.9.0\n",
      "INFO: Need to process 1 study sessions\n",
      "INFO: PROCESSING STARTS: {'subject': 'BPP15', 'outdir': '/base/data/bids_data/', 'session': None}\n",
      "INFO: Processing 3940 dicoms\n",
      "INFO: Analyzing 3940 dicoms\n"
     ]
    }
   ],
   "source": [
    "# make the job directory if it doens't exist\n",
    "if os.path.exists(job_dir) == False:\n",
    "    os.mkdir(job_dir)\n",
    "\n",
    "# loop over participants\n",
    "for s in subs:\n",
    "    print('-------------- Creating: {} -------------'.format(s))\n",
    "    \n",
    "    file_path = os.path.join(job_dir, 'heudiconv_{}.job').format(s)\n",
    "    print(file_path)\n",
    "\n",
    "    with open(file_path.format(s), 'w') as job:\n",
    "        job.write(job_file_template.format(ID=s, subject='{subject}'))\n",
    "    \n",
    "    !bash $file_path\n"
   ]
  },
  {
   "cell_type": "markdown",
   "metadata": {},
   "source": [
    "## Submit jobs using slurm\n",
    "The code below creates a job that can be run using slurm\n",
    "\n",
    "### Define variables"
   ]
  },
  {
   "cell_type": "code",
   "execution_count": 117,
   "metadata": {},
   "outputs": [],
   "source": [
    "project = 'bbprime'\n",
    "slurm_dir = os.path.join('/data00/slurm_jobs/slurm_' + project)\n",
    "subs = ['BPP07']\n",
    "\n",
    "job_file_template = r'''#!/bin/bash\n",
    "#SBATCH --job-name=heudiconv_{ID}.job\n",
    "#SBATCH --output=out/heudiconv_{ID}.out\n",
    "#SBATCH --error=out/heudiconv_{ID}.err\n",
    "#SBATCH --time=02:00\n",
    "\n",
    "srun singularity run --cleanenv \\\n",
    "    -B /data00/projects/bbprime:/base  \\\n",
    "    -B /fmriDataRaw/fmri_data_raw:/raw \\\n",
    "    /data00/tools/singularity_images/heudiconv_0.8.0 \\\n",
    "    -d /raw/bbprime/{ID}/*/*.dcm \\\n",
    "    -o /base/data/bids_data/ \\\n",
    "    -f heudiconv/code/heuristic.py -s {ID} -c dcm2niix -b --overwrite\n",
    "'''"
   ]
  },
  {
   "cell_type": "markdown",
   "metadata": {},
   "source": [
    "### Loop through specified participants"
   ]
  },
  {
   "cell_type": "code",
   "execution_count": 118,
   "metadata": {},
   "outputs": [
    {
     "name": "stdout",
     "output_type": "stream",
     "text": [
      "-------------- Creating: BPP01 -------------\n",
      "/data00/slurm_jobs/slurm_bbprime/heudiconv_BPP01.job\n"
     ]
    }
   ],
   "source": [
    "for s in subs:\n",
    "    print('-------------- Creating: {} -------------'.format(s))\n",
    "    \n",
    "    file_path = os.path.join(slurm_dir, 'heudiconv_{}.job').format(s)\n",
    "    print(file_path)\n",
    "\n",
    "    with open(file_path.format(s), 'w') as job:\n",
    "        job.write(job_file_template.format(ID=s, subject='{subject}'))\n"
   ]
  },
  {
   "cell_type": "markdown",
   "metadata": {},
   "source": [
    "### Schedule the jobs on slurm\n",
    "\n",
    "Login to the slurm cluster:\n",
    "\n",
    "```\n",
    "ssh <JANUS_UN>@asc.upenn.edu@cls000\n",
    "```\n",
    "\n",
    "This will give you a terminal on the SLURM master node where you can look at the process queue and schedule jobs by pasting the output from the next chunk"
   ]
  },
  {
   "cell_type": "code",
   "execution_count": 108,
   "metadata": {},
   "outputs": [
    {
     "name": "stdout",
     "output_type": "stream",
     "text": [
      "cd /data00/slurm_jobs/slurm_bbprime\n",
      "sbatch -D /data00/slurm_jobs/slurm_bbprime -c 8 heudiconv_BPP01.job\n"
     ]
    }
   ],
   "source": [
    "print(f\"cd {slurm_dir}\")\n",
    "for s in subs:\n",
    "    print(f\"sbatch -D {slurm_dir} -c 8 heudiconv_{s}.job\")"
   ]
  },
  {
   "cell_type": "code",
   "execution_count": 114,
   "metadata": {},
   "outputs": [
    {
     "name": "stdout",
     "output_type": "stream",
     "text": [
      "fmriprep_sub-BPP00.job\theudiconv_BPP01.job  out\r\n"
     ]
    }
   ],
   "source": [
    "!ls /data00/slurm_jobs/slurm_bbprime/"
   ]
  },
  {
   "cell_type": "code",
   "execution_count": null,
   "metadata": {},
   "outputs": [],
   "source": []
  }
 ],
 "metadata": {
  "kernelspec": {
   "display_name": "Python 3",
   "language": "python",
   "name": "python3"
  },
  "language_info": {
   "codemirror_mode": {
    "name": "ipython",
    "version": 3
   },
   "file_extension": ".py",
   "mimetype": "text/x-python",
   "name": "python",
   "nbconvert_exporter": "python",
   "pygments_lexer": "ipython3",
   "version": "3.7.4"
  }
 },
 "nbformat": 4,
 "nbformat_minor": 2
}
