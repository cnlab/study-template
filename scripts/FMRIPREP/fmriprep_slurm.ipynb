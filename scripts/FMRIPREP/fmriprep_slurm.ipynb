{
 "cells": [
  {
   "cell_type": "markdown",
   "metadata": {},
   "source": [
    "# Using `fmriprep` on the SLURM cluster\n",
    "\n",
    "\n",
    "\n",
    "--------------------\n",
    "\n",
    "\n",
    "#### HISTORY\n",
    "\n",
    "* 7/9/2021 - dcosme revised for bbprime\n",
    "* 5/22/20 - mbod updated for revised MURI fmriprep pipeline\n",
    "* 1/22/20 - matt, jeesung and nicole initial test setup for using SLURM"
   ]
  },
  {
   "cell_type": "code",
   "execution_count": 2,
   "metadata": {},
   "outputs": [],
   "source": [
    "import os"
   ]
  },
  {
   "cell_type": "markdown",
   "metadata": {},
   "source": [
    "## 1. Create job files\n",
    "\n",
    "* Each process that you send to SLURM needs a job file, which is a text file with the commands to be executed by SLURM\n",
    "\n",
    "* For the bbprime project these job files should be placed in:\n",
    "\n",
    "```\n",
    "/data00/projects/bbprime/scripts/FMRIPREP/jobs\n",
    "```\n",
    "\n",
    "* A job file has:\n",
    "\n",
    "    1. some SLURM directives in lines beginning `#SBATCH`\n",
    "    2. one or more commands to be run (prefixed with `srun`)\n",
    "    \n",
    "```\n",
    "#!/bin/bash\n",
    "#SBATCH --job-name=fmriprep_{ID}.job\n",
    "#SBATCH --output=out/fmriprep_{ID}.out\n",
    "#SBATCH --error=out/fmriprep_{ID}.err\n",
    "#SBATCH --time=2-00:00\n",
    "\n",
    "srun singularity run --cleanenv \\\n",
    "    -B /data00/tools/freesurfer/license.txt:/opt/freesurfer/license.txt  \\\n",
    "    -B /data00/projects/bbprime/data/bids_data:/data \\\n",
    "    -B /data00/projects/bbprime/data/bids_data/derivatives:/out  \\\n",
    "    -B /data00/projects/bbprime/data/bids_data/derivatives/working:/work \\\n",
    "    /data00/tools/singularity_images/fmriprep_v20.0.6 /data /out -w /work \\\n",
    "    --ignore slicetiming \\\n",
    "    --nthread 8 \\\n",
    "    participant --participant_label {ID} \\\n",
    "    --skip-bids-validation\n",
    "```"
   ]
  },
  {
   "cell_type": "markdown",
   "metadata": {},
   "source": [
    "### Define variables"
   ]
  },
  {
   "cell_type": "code",
   "execution_count": 67,
   "metadata": {},
   "outputs": [],
   "source": [
    "project = 'bbprime'\n",
    "project_dir = os.path.join('/data00/projects/' + project)\n",
    "slurm_dir = os.path.join(project_dir + '/scripts/FMRIPREP/jobs')"
   ]
  },
  {
   "cell_type": "markdown",
   "metadata": {},
   "source": [
    "### Make the directory if it doesn't exist"
   ]
  },
  {
   "cell_type": "code",
   "execution_count": 68,
   "metadata": {},
   "outputs": [
    {
     "name": "stdout",
     "output_type": "stream",
     "text": [
      "mkdir: cannot create directory ‘/data00/projects/bbprime/scripts/FMRIPREP/jobs’: File exists\r\n"
     ]
    }
   ],
   "source": [
    "!mkdir $slurm_dir"
   ]
  },
  {
   "cell_type": "markdown",
   "metadata": {},
   "source": [
    "### Create job template"
   ]
  },
  {
   "cell_type": "code",
   "execution_count": 8,
   "metadata": {},
   "outputs": [],
   "source": [
    "job_file_template = r'''#!/bin/bash\n",
    "#SBATCH --job-name=fmriprep_{ID}.job\n",
    "#SBATCH --output=out/fmriprep_{ID}.out\n",
    "#SBATCH --error=out/fmriprep_{ID}.err\n",
    "#SBATCH --time=2-00:00\n",
    "\n",
    "srun singularity run --cleanenv \\\n",
    "    -B /data00/tools/freesurfer/license.txt:/opt/freesurfer/license.txt  \\\n",
    "    -B /data00/projects/bbprime/data/bids_data:/data \\\n",
    "    -B /data00/projects/bbprime/data/bids_data/derivatives:/out  \\\n",
    "    -B /data00/projects/bbprime/data/bids_data/derivatives/working:/work \\\n",
    "    /data00/tools/singularity_images/fmriprep_v20.0.6 /data /out -w /work \\\n",
    "    --ignore slicetiming \\\n",
    "    --nthread 8 \\\n",
    "    participant --participant_label {ID} \\\n",
    "    --skip-bids-validation\n",
    "'''\n"
   ]
  },
  {
   "cell_type": "code",
   "execution_count": 9,
   "metadata": {},
   "outputs": [
    {
     "name": "stdout",
     "output_type": "stream",
     "text": [
      "#!/bin/bash\n",
      "#SBATCH --job-name=fmriprep_sub-BPP00.job\n",
      "#SBATCH --output=out/fmriprep_sub-BPP00.out\n",
      "#SBATCH --error=out/fmriprep_sub-BPP00.err\n",
      "#SBATCH --time=2-00:00\n",
      "\n",
      "srun singularity run --cleanenv \\\n",
      "    -B /data00/tools/freesurfer/license.txt:/opt/freesurfer/license.txt  \\\n",
      "    -B /data00/projects/bbprime/data/bids_data:/data \\\n",
      "    -B /data00/projects/bbprime/data/bids_data/derivatives:/out  \\\n",
      "    -B /data00/projects/bbprime/data/bids_data/derivatives/working:/work \\\n",
      "    /data00/tools/singularity_images/fmriprep_v20.0.6 /data /out -w /work \\\n",
      "    --ignore slicetiming \\\n",
      "    --nthread 8 \\\n",
      "    participant --participant_label sub-BPP00 \\\n",
      "    --skip-bids-validation\n",
      "\n"
     ]
    }
   ],
   "source": [
    "print(job_file_template.format(ID='sub-BPP00'))"
   ]
  },
  {
   "cell_type": "markdown",
   "metadata": {},
   "source": [
    "### Identify participants who lack job files\n",
    "Of the participants listed in the `{project_dir}/data/bids_data`, identify those who lack a job file and create it"
   ]
  },
  {
   "cell_type": "code",
   "execution_count": 63,
   "metadata": {},
   "outputs": [],
   "source": [
    "subs = [s for s in os.listdir(os.path.join(project_dir, 'data/bids_data'))\n",
    "                       if s.startswith('sub-BP')]\n",
    "\n",
    "existing_job_files = [s for s in os.listdir(slurm_dir)\n",
    "                       if s.endswith('.job') and s.count('sub-BP')==1]\n",
    "\n",
    "subs_to_process = [sub for sub in subs if 'fmriprep_' + sub + '.job' not in existing_job_files]"
   ]
  },
  {
   "cell_type": "markdown",
   "metadata": {},
   "source": [
    "### Create a job file for each participant in `subs_to_process`"
   ]
  },
  {
   "cell_type": "code",
   "execution_count": 15,
   "metadata": {},
   "outputs": [
    {
     "name": "stdout",
     "output_type": "stream",
     "text": [
      "Creating /data00/projects/bbprime/scripts/FMRIPREP/jobs/fmriprep_sub-BPP00.job\n",
      "Creating /data00/projects/bbprime/scripts/FMRIPREP/jobs/fmriprep_sub-BPP01.job\n",
      "Creating /data00/projects/bbprime/scripts/FMRIPREP/jobs/fmriprep_sub-BPP05.job\n",
      "Creating /data00/projects/bbprime/scripts/FMRIPREP/jobs/fmriprep_sub-BPP06.job\n",
      "Creating /data00/projects/bbprime/scripts/FMRIPREP/jobs/fmriprep_sub-BPP07.job\n",
      "Creating /data00/projects/bbprime/scripts/FMRIPREP/jobs/fmriprep_sub-BPP11.job\n",
      "Creating /data00/projects/bbprime/scripts/FMRIPREP/jobs/fmriprep_sub-BPP13.job\n",
      "Creating /data00/projects/bbprime/scripts/FMRIPREP/jobs/fmriprep_sub-BPP15.job\n",
      "Creating /data00/projects/bbprime/scripts/FMRIPREP/jobs/fmriprep_sub-BPP19.job\n",
      "Creating /data00/projects/bbprime/scripts/FMRIPREP/jobs/fmriprep_sub-BPP20.job\n",
      "Creating /data00/projects/bbprime/scripts/FMRIPREP/jobs/fmriprep_sub-BPP21.job\n",
      "Creating /data00/projects/bbprime/scripts/FMRIPREP/jobs/fmriprep_sub-BPP22.job\n",
      "Creating /data00/projects/bbprime/scripts/FMRIPREP/jobs/fmriprep_sub-BPP24.job\n",
      "Creating /data00/projects/bbprime/scripts/FMRIPREP/jobs/fmriprep_sub-BPP25.job\n",
      "Creating /data00/projects/bbprime/scripts/FMRIPREP/jobs/fmriprep_sub-BPP26.job\n",
      "Creating /data00/projects/bbprime/scripts/FMRIPREP/jobs/fmriprep_sub-BPP29.job\n",
      "Creating /data00/projects/bbprime/scripts/FMRIPREP/jobs/fmriprep_sub-BPP30.job\n",
      "Creating /data00/projects/bbprime/scripts/FMRIPREP/jobs/fmriprep_sub-BPP33.job\n",
      "Creating /data00/projects/bbprime/scripts/FMRIPREP/jobs/fmriprep_sub-BPP34.job\n",
      "Creating /data00/projects/bbprime/scripts/FMRIPREP/jobs/fmriprep_sub-BPP36.job\n",
      "Creating /data00/projects/bbprime/scripts/FMRIPREP/jobs/fmriprep_sub-BPP37.job\n",
      "Creating /data00/projects/bbprime/scripts/FMRIPREP/jobs/fmriprep_sub-BPP38.job\n",
      "Creating /data00/projects/bbprime/scripts/FMRIPREP/jobs/fmriprep_sub-BPP40.job\n",
      "Creating /data00/projects/bbprime/scripts/FMRIPREP/jobs/fmriprep_sub-BPP41.job\n",
      "Creating /data00/projects/bbprime/scripts/FMRIPREP/jobs/fmriprep_sub-BPP42.job\n",
      "Creating /data00/projects/bbprime/scripts/FMRIPREP/jobs/fmriprep_sub-BPP43.job\n",
      "Creating /data00/projects/bbprime/scripts/FMRIPREP/jobs/fmriprep_sub-BPP44.job\n",
      "Creating /data00/projects/bbprime/scripts/FMRIPREP/jobs/fmriprep_sub-BPP46.job\n"
     ]
    }
   ],
   "source": [
    "for s in subs_to_process:\n",
    "    file_path = os.path.join(slurm_dir, 'fmriprep_{}.job').format(s)\n",
    "    print('Creating', file_path)\n",
    "\n",
    "    with open(file_path.format(s), 'w') as job:\n",
    "        job.write(job_file_template.format(ID=s))\n"
   ]
  },
  {
   "cell_type": "markdown",
   "metadata": {},
   "source": [
    "## 2. Submit jobs to SLURM cluster\n",
    "\n",
    "### How to log onto the SLURM master\n",
    "\n",
    "\n",
    "* master name: `cls000.asc.upenn.edu`\n",
    "\n",
    "\n",
    "```\n",
    "ssh <JANUS_UN>@asc.upenn.edu@cls000\n",
    "```\n",
    "\n",
    "\n",
    "* This will give you a terminal on the SLURM master node where you can look at the process queue and schedule jobs.\n",
    "\n",
    "### How to schedule a job to SLURM\n",
    "\n",
    "* Use the `sbatch` command\n",
    "\n",
    "    ```\n",
    "    sbatch -D /data00/slurm_jobs/slurm_bbprime -c 8 name_of_job_file\n",
    "    \n",
    "    ```\n",
    "\n",
    "    * `-D` is the working directory\n",
    "    * `-c` the number of processors to use\n",
    "    * then the name of the job file"
   ]
  },
  {
   "cell_type": "markdown",
   "metadata": {},
   "source": [
    "### Create log file directory\n",
    "\n",
    "If this doesn't exist, your job will fail without explanation"
   ]
  },
  {
   "cell_type": "code",
   "execution_count": 16,
   "metadata": {},
   "outputs": [],
   "source": [
    "!mkdir $slurm_dir/out"
   ]
  },
  {
   "cell_type": "markdown",
   "metadata": {},
   "source": [
    "### Run all jobs\n",
    "To submit all the jobs, copy and past the following lines of code into the terminal after logging into the slurm cluster"
   ]
  },
  {
   "cell_type": "code",
   "execution_count": 17,
   "metadata": {},
   "outputs": [
    {
     "name": "stdout",
     "output_type": "stream",
     "text": [
      "Alternatively, submit the whole batch by copying and pasting the following lines in terminal:\n",
      "\n",
      "cd /data00/projects/bbprime/scripts/FMRIPREP/jobs\n",
      "sbatch -D /data00/projects/bbprime/scripts/FMRIPREP/jobs -c 8 fmriprep_sub-BPP00.job\n",
      "sbatch -D /data00/projects/bbprime/scripts/FMRIPREP/jobs -c 8 fmriprep_sub-BPP01.job\n",
      "sbatch -D /data00/projects/bbprime/scripts/FMRIPREP/jobs -c 8 fmriprep_sub-BPP05.job\n",
      "sbatch -D /data00/projects/bbprime/scripts/FMRIPREP/jobs -c 8 fmriprep_sub-BPP06.job\n",
      "sbatch -D /data00/projects/bbprime/scripts/FMRIPREP/jobs -c 8 fmriprep_sub-BPP07.job\n",
      "sbatch -D /data00/projects/bbprime/scripts/FMRIPREP/jobs -c 8 fmriprep_sub-BPP11.job\n",
      "sbatch -D /data00/projects/bbprime/scripts/FMRIPREP/jobs -c 8 fmriprep_sub-BPP13.job\n",
      "sbatch -D /data00/projects/bbprime/scripts/FMRIPREP/jobs -c 8 fmriprep_sub-BPP15.job\n",
      "sbatch -D /data00/projects/bbprime/scripts/FMRIPREP/jobs -c 8 fmriprep_sub-BPP19.job\n",
      "sbatch -D /data00/projects/bbprime/scripts/FMRIPREP/jobs -c 8 fmriprep_sub-BPP20.job\n",
      "sbatch -D /data00/projects/bbprime/scripts/FMRIPREP/jobs -c 8 fmriprep_sub-BPP21.job\n",
      "sbatch -D /data00/projects/bbprime/scripts/FMRIPREP/jobs -c 8 fmriprep_sub-BPP22.job\n",
      "sbatch -D /data00/projects/bbprime/scripts/FMRIPREP/jobs -c 8 fmriprep_sub-BPP24.job\n",
      "sbatch -D /data00/projects/bbprime/scripts/FMRIPREP/jobs -c 8 fmriprep_sub-BPP25.job\n",
      "sbatch -D /data00/projects/bbprime/scripts/FMRIPREP/jobs -c 8 fmriprep_sub-BPP26.job\n",
      "sbatch -D /data00/projects/bbprime/scripts/FMRIPREP/jobs -c 8 fmriprep_sub-BPP29.job\n",
      "sbatch -D /data00/projects/bbprime/scripts/FMRIPREP/jobs -c 8 fmriprep_sub-BPP30.job\n",
      "sbatch -D /data00/projects/bbprime/scripts/FMRIPREP/jobs -c 8 fmriprep_sub-BPP33.job\n",
      "sbatch -D /data00/projects/bbprime/scripts/FMRIPREP/jobs -c 8 fmriprep_sub-BPP34.job\n",
      "sbatch -D /data00/projects/bbprime/scripts/FMRIPREP/jobs -c 8 fmriprep_sub-BPP36.job\n",
      "sbatch -D /data00/projects/bbprime/scripts/FMRIPREP/jobs -c 8 fmriprep_sub-BPP37.job\n",
      "sbatch -D /data00/projects/bbprime/scripts/FMRIPREP/jobs -c 8 fmriprep_sub-BPP38.job\n",
      "sbatch -D /data00/projects/bbprime/scripts/FMRIPREP/jobs -c 8 fmriprep_sub-BPP40.job\n",
      "sbatch -D /data00/projects/bbprime/scripts/FMRIPREP/jobs -c 8 fmriprep_sub-BPP41.job\n",
      "sbatch -D /data00/projects/bbprime/scripts/FMRIPREP/jobs -c 8 fmriprep_sub-BPP42.job\n",
      "sbatch -D /data00/projects/bbprime/scripts/FMRIPREP/jobs -c 8 fmriprep_sub-BPP43.job\n",
      "sbatch -D /data00/projects/bbprime/scripts/FMRIPREP/jobs -c 8 fmriprep_sub-BPP44.job\n",
      "sbatch -D /data00/projects/bbprime/scripts/FMRIPREP/jobs -c 8 fmriprep_sub-BPP46.job\n",
      " \n"
     ]
    }
   ],
   "source": [
    "print(\"Alternatively, submit the whole batch by copying and pasting the following lines in terminal:\")\n",
    "print(\"\")\n",
    "\n",
    "print(f\"cd {slurm_dir}\")\n",
    "for s in subs_to_process:\n",
    "    print(f\"sbatch -D {slurm_dir} -c 8 fmriprep_{s}.job\")\n",
    "print(\" \")"
   ]
  },
  {
   "cell_type": "code",
   "execution_count": null,
   "metadata": {},
   "outputs": [],
   "source": []
  }
 ],
 "metadata": {
  "kernelspec": {
   "display_name": "Python 3",
   "language": "python",
   "name": "python3"
  },
  "language_info": {
   "codemirror_mode": {
    "name": "ipython",
    "version": 3
   },
   "file_extension": ".py",
   "mimetype": "text/x-python",
   "name": "python",
   "nbconvert_exporter": "python",
   "pygments_lexer": "ipython3",
   "version": "3.7.4"
  }
 },
 "nbformat": 4,
 "nbformat_minor": 2
}
